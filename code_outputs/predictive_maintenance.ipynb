{
 "cells": [
  {
   "cell_type": "code",
   "execution_count": null,
   "id": "aefeb8e0",
   "metadata": {},
   "outputs": [],
   "source": [
    "import pandas as pd\n",
    "import numpy as np\n",
    "import matplotlib.pyplot as plt\n",
    "import seaborn as sns\n",
    "from sklearn.model_selection import train_test_split\n",
    "from sklearn.ensemble import RandomForestClassifier\n",
    "from sklearn.metrics import accuracy_score, classification_report, confusion_matrix\n",
    "import joblib\n"
   ]
  },
  {
   "cell_type": "code",
   "execution_count": null,
   "id": "606cd94d",
   "metadata": {},
   "outputs": [],
   "source": [
    "\n",
    "np.random.seed(42)\n",
    "\n",
    "# Number of samples\n",
    "n_samples = 1000\n",
    "\n",
    "# Simulated sensor readings\n",
    "temperature = np.random.normal(75, 10, n_samples)       # degrees\n",
    "vibration = np.random.normal(0.5, 0.1, n_samples)       # g-force\n",
    "pressure = np.random.normal(30, 5, n_samples)           # psi\n",
    "runtime_hours = np.random.randint(100, 10000, n_samples) # machine hours\n",
    "\n",
    "# Simulated failure condition (label)\n",
    "# Failure if temperature > 90, vibration > 0.6, pressure > 40, or runtime > 8000\n",
    "failure = (\n",
    "    (temperature > 90) |\n",
    "    (vibration > 0.6) |\n",
    "    (pressure > 40) |\n",
    "    (runtime_hours > 8000)\n",
    ").astype(int)\n",
    "\n",
    "# Create DataFrame\n",
    "df = pd.DataFrame({\n",
    "    \"temperature\": temperature,\n",
    "    \"vibration\": vibration,\n",
    "    \"pressure\": pressure,\n",
    "    \"runtime_hours\": runtime_hours,\n",
    "    \"failure\": failure\n",
    "})\n",
    "\n",
    "df.head()\n"
   ]
  },
  {
   "cell_type": "code",
   "execution_count": null,
   "id": "26beb987",
   "metadata": {},
   "outputs": [],
   "source": [
    "print(df.info())\n",
    "print(df.describe())\n",
    "\n",
    "sns.pairplot(df, hue=\"failure\")\n",
    "plt.show()\n"
   ]
  },
  {
   "cell_type": "code",
   "execution_count": null,
   "id": "c3735483",
   "metadata": {},
   "outputs": [],
   "source": [
    "X = df.drop(\"failure\", axis=1)\n",
    "y = df[\"failure\"]\n",
    "\n",
    "X_train, X_test, y_train, y_test = train_test_split(X, y, test_size=0.2, random_state=42)\n"
   ]
  },
  {
   "cell_type": "code",
   "execution_count": null,
   "id": "5d0b9130",
   "metadata": {},
   "outputs": [],
   "source": [
    "model = RandomForestClassifier(n_estimators=100, random_state=42)\n",
    "model.fit(X_train, y_train)\n"
   ]
  },
  {
   "cell_type": "code",
   "execution_count": null,
   "id": "be7ca867",
   "metadata": {},
   "outputs": [],
   "source": [
    "y_pred = model.predict(X_test)\n",
    "print(\"Accuracy:\", accuracy_score(y_test, y_pred))\n",
    "print(classification_report(y_test, y_pred))\n",
    "\n",
    "cm = confusion_matrix(y_test, y_pred)\n",
    "sns.heatmap(cm, annot=True, fmt=\"d\", cmap=\"Blues\")\n",
    "plt.xlabel(\"Predicted\")\n",
    "plt.ylabel(\"Actual\")\n",
    "plt.show()\n"
   ]
  },
  {
   "cell_type": "code",
   "execution_count": null,
   "id": "b64f03cf",
   "metadata": {},
   "outputs": [],
   "source": [
    "joblib.dump(model, \"predictive_maintenance_model.pkl\")\n",
    "print(\"Model saved as predictive_maintenance_model.pkl\")\n"
   ]
  }
 ],
 "metadata": {
  "kernelspec": {
   "display_name": "Python 3",
   "language": "python",
   "name": "python3"
  },
  "language_info": {
   "codemirror_mode": {
    "name": "ipython",
    "version": 3
   },
   "file_extension": ".py",
   "mimetype": "text/x-python",
   "name": "python",
   "nbconvert_exporter": "python",
   "pygments_lexer": "ipython3",
   "version": "3.13.5"
  }
 },
 "nbformat": 4,
 "nbformat_minor": 5
}
